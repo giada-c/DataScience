{
 "cells": [
  {
   "cell_type": "code",
   "execution_count": 16,
   "metadata": {},
   "outputs": [],
   "source": [
    "#Import\n",
    "import pandas as pd\n",
    "from datetime import datetime"
   ]
  },
  {
   "cell_type": "code",
   "execution_count": 22,
   "metadata": {},
   "outputs": [
    {
     "data": {
      "text/plain": [
       "0        1995-10-30\n",
       "1        1995-12-15\n",
       "2        1995-12-22\n",
       "3        1995-12-22\n",
       "4        1995-02-10\n",
       "            ...    \n",
       "45461           NaN\n",
       "45462    2011-11-17\n",
       "45463    2003-08-01\n",
       "45464    1917-10-21\n",
       "45465    2017-06-09\n",
       "Name: release_date, Length: 45466, dtype: object"
      ]
     },
     "execution_count": 22,
     "metadata": {},
     "output_type": "execute_result"
    }
   ],
   "source": [
    "#Start dataframe\n",
    "movieDf = pd.read_csv('movies_metadata.csv',low_memory=False, parse_dates=True)\n",
    "\n",
    "raitingDf = pd.read_csv('ratings.csv')\n",
    "\n",
    "\"\"\"\n",
    "raitingByMovie = raitingDf.groupby(\"movieId\").mean()\n",
    "raitingByMovie = raitingByMovie.drop(columns=\"userId\")\n",
    "\n",
    "raitingByUser = raitingDf.groupby(\"userId\").mean()\n",
    "raitingByUser = raitingByUser.drop(columns=\"movieId\")\n",
    "\"\"\"\n",
    "movieDf[\"release_date\"]"
   ]
  },
  {
   "cell_type": "markdown",
   "metadata": {},
   "source": [
    "Un film piace di più se é in una certa lingua?\n",
    "\n",
    "I film nuovi piacciono di più di quelli vecchi?\n",
    "\n",
    "I film con tagline hanno piu successo?\n",
    "\n",
    "I film più lunghi piacciono di meno?\n",
    "\n",
    "I film più buget piacciono di piu?\n",
    "\n",
    "Film stessa collezione piacciono allo stesso modo?"
   ]
  }
 ],
 "metadata": {
  "kernelspec": {
   "display_name": "Python 3",
   "language": "python",
   "name": "python3"
  },
  "language_info": {
   "codemirror_mode": {
    "name": "ipython",
    "version": 3
   },
   "file_extension": ".py",
   "mimetype": "text/x-python",
   "name": "python",
   "nbconvert_exporter": "python",
   "pygments_lexer": "ipython3",
   "version": "3.8.3"
  }
 },
 "nbformat": 4,
 "nbformat_minor": 4
}
